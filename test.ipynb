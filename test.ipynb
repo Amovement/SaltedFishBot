{
 "cells": [
  {
   "cell_type": "code",
   "execution_count": 8,
   "metadata": {},
   "outputs": [
    {
     "name": "stdout",
     "output_type": "stream",
     "text": [
      "-----------------\n",
      "1.       显示窗口\n",
      "2.       隐藏窗口\n",
      "shoucai. 收离线奖励\n",
      "tower.   咸将塔\n",
      "help.    帮助\n",
      "exit.    退出\n",
      "-----------------\n",
      "Start...tap help for more details.\n",
      "978 138\n",
      "905 1674\n",
      "603 1116\n"
     ]
    }
   ],
   "source": [
    "from window_operate import *\n",
    "from gaming_func import *\n",
    "from notice_func import *\n",
    "import sys,time,os\n",
    "import threading\n",
    "\n",
    "from ctypes import *\n",
    "from ctypes.wintypes import *\n",
    "\n",
    "def get_current_size(hwnd):\n",
    "    try:\n",
    "        f = ctypes.windll.dwmapi.DwmGetWindowAttribute\n",
    "    except WindowsError:\n",
    "        f = None\n",
    "    if f:\n",
    "        rect = ctypes.wintypes.RECT()\n",
    "        DWMWA_EXTENDED_FRAME_BOUNDS = 9\n",
    "        f(ctypes.wintypes.HWND(hwnd),\n",
    "          ctypes.wintypes.DWORD(DWMWA_EXTENDED_FRAME_BOUNDS),\n",
    "          ctypes.byref(rect),\n",
    "          ctypes.sizeof(rect)\n",
    "          )\n",
    "        size = (rect.right - rect.left, rect.bottom - rect.top)        \n",
    "        return size\n",
    "\n",
    "hwnd = get_window_handle(title=\"咸鱼之王\")\n",
    "if hwnd == 0:\n",
    "    print(\"游戏未启动，退出...\")\n",
    "    time.sleep(3)\n",
    "    os._exit(1)\n",
    "print_help()\n",
    "print(\"Start...tap help for more details.\")\n",
    "w1,h1=get_current_size(hwnd)\n",
    "rect = win32gui.GetWindowRect(hwnd)\n",
    "x,y=rect[0],rect[1]\n",
    "print(x,y)\n",
    "w,h=rect[2] - x,rect[3] - y\n",
    "print(w1,h1)\n",
    "print(w,h)"
   ]
  },
  {
   "cell_type": "code",
   "execution_count": 4,
   "metadata": {},
   "outputs": [
    {
     "name": "stdout",
     "output_type": "stream",
     "text": [
      "-----------------\n",
      "1.       显示窗口\n",
      "2.       隐藏窗口\n",
      "shoucai. 收离线奖励\n",
      "tower.   咸将塔\n",
      "help.    帮助\n",
      "exit.    退出\n",
      "-----------------\n",
      "Start...tap help for more details.\n",
      "24 9\n",
      "675 1266\n",
      "450 844\n"
     ]
    }
   ],
   "source": [
    "from window_operate import *\n",
    "from gaming_func import *\n",
    "from notice_func import *\n",
    "import sys,time,os\n",
    "import threading\n",
    "\n",
    "from ctypes import *\n",
    "from ctypes.wintypes import *\n",
    "\n",
    "def get_current_size(hwnd):\n",
    "    try:\n",
    "        f = ctypes.windll.dwmapi.DwmGetWindowAttribute\n",
    "    except WindowsError:\n",
    "        f = None\n",
    "    if f:\n",
    "        rect = ctypes.wintypes.RECT()\n",
    "        DWMWA_EXTENDED_FRAME_BOUNDS = 9\n",
    "        f(ctypes.wintypes.HWND(hwnd),\n",
    "          ctypes.wintypes.DWORD(DWMWA_EXTENDED_FRAME_BOUNDS),\n",
    "          ctypes.byref(rect),\n",
    "          ctypes.sizeof(rect)\n",
    "          )\n",
    "        size = (rect.right - rect.left, rect.bottom - rect.top)        \n",
    "        return size\n",
    "\n",
    "hwnd = get_window_handle(title=\"咸鱼之王\")\n",
    "if hwnd == 0:\n",
    "    print(\"游戏未启动，退出...\")\n",
    "    time.sleep(3)\n",
    "    os._exit(1)\n",
    "print_help()\n",
    "print(\"Start...tap help for more details.\")\n",
    "w1,h1=get_current_size(hwnd)\n",
    "rect = win32gui.GetWindowRect(hwnd)\n",
    "x,y=rect[0],rect[1]\n",
    "print(x,y)\n",
    "w,h=rect[2] - x,rect[3] - y\n",
    "print(w1,h1)\n",
    "print(w,h)"
   ]
  },
  {
   "cell_type": "code",
   "execution_count": null,
   "metadata": {},
   "outputs": [],
   "source": [
    "x,y=rect[0],rect[1]\n",
    "w,h=rect[2] - x,rect[3] - y"
   ]
  }
 ],
 "metadata": {
  "kernelspec": {
   "display_name": "stable_diffusion",
   "language": "python",
   "name": "python3"
  },
  "language_info": {
   "codemirror_mode": {
    "name": "ipython",
    "version": 3
   },
   "file_extension": ".py",
   "mimetype": "text/x-python",
   "name": "python",
   "nbconvert_exporter": "python",
   "pygments_lexer": "ipython3",
   "version": "3.10.10"
  },
  "orig_nbformat": 4
 },
 "nbformat": 4,
 "nbformat_minor": 2
}
