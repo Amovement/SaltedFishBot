{
 "cells": [
  {
   "cell_type": "code",
   "execution_count": 8,
   "metadata": {},
   "outputs": [
    {
     "name": "stdout",
     "output_type": "stream",
     "text": [
      "-----------------\n",
      "1.       显示窗口\n",
      "2.       隐藏窗口\n",
      "shoucai. 收离线奖励\n",
      "tower.   咸将塔\n",
      "help.    帮助\n",
      "exit.    退出\n",
      "-----------------\n",
      "Start...tap help for more details.\n",
      "978 138\n",
      "905 1674\n",
      "603 1116\n"
     ]
    }
   ],
   "source": [
    "from window_operate import *\n",
    "from gaming_func import *\n",
    "from notice_func import *\n",
    "import sys,time,os\n",
    "import threading\n",
    "\n",
    "from ctypes import *\n",
    "from ctypes.wintypes import *\n",
    "\n",
    "def get_current_size(hwnd):\n",
    "    try:\n",
    "        f = ctypes.windll.dwmapi.DwmGetWindowAttribute\n",
    "    except WindowsError:\n",
    "        f = None\n",
    "    if f:\n",
    "        rect = ctypes.wintypes.RECT()\n",
    "        DWMWA_EXTENDED_FRAME_BOUNDS = 9\n",
    "        f(ctypes.wintypes.HWND(hwnd),\n",
    "          ctypes.wintypes.DWORD(DWMWA_EXTENDED_FRAME_BOUNDS),\n",
    "          ctypes.byref(rect),\n",
    "          ctypes.sizeof(rect)\n",
    "          )\n",
    "        size = (rect.right - rect.left, rect.bottom - rect.top)        \n",
    "        return size\n",
    "\n",
    "hwnd = get_window_handle(title=\"咸鱼之王\")\n",
    "if hwnd == 0:\n",
    "    print(\"游戏未启动，退出...\")\n",
    "    time.sleep(3)\n",
    "    os._exit(1)\n",
    "print_help()\n",
    "print(\"Start...tap help for more details.\")\n",
    "w1,h1=get_current_size(hwnd)\n",
    "rect = win32gui.GetWindowRect(hwnd)\n",
    "x,y=rect[0],rect[1]\n",
    "print(x,y)\n",
    "w,h=rect[2] - x,rect[3] - y\n",
    "print(w1,h1)\n",
    "print(w,h)"
   ]
  },
  {
   "cell_type": "code",
   "execution_count": 2,
   "metadata": {},
   "outputs": [
    {
     "name": "stdout",
     "output_type": "stream",
     "text": [
      "([67090], ['● test.ipynb - SaltedFishBot - Visual Studio Code'])\n",
      "([132226], ['Amovement/SaltedFishBot: 咸鱼之王pc脚本 - Google Chrome'])\n",
      "([67304], ['设置'])\n",
      "([67738], ['新建 文本文档 - Notepad'])\n",
      "([132638], ['安装'])\n",
      "([66624], ['NVIDIA GeForce Overlay'])\n",
      "([131122], ['Windows 输入体验'])\n",
      "([66972], ['Clash for Windows'])\n",
      "([66700], ['梦回2018年！假面骑士时王全形态变身合集_哔哩哔哩_bilibili - Google Chrome'])\n",
      "([329632], ['咸鱼之王'])\n",
      "([590050], ['图片查看'])\n",
      "([263984], ['微信'])\n",
      "([65920], ['Program Manager'])\n"
     ]
    },
    {
     "name": "stderr",
     "output_type": "stream",
     "text": [
      "<>:9: SyntaxWarning: \"is not\" with a literal. Did you mean \"!=\"?\n",
      "<>:9: SyntaxWarning: \"is not\" with a literal. Did you mean \"!=\"?\n",
      "C:\\Users\\ONE\\AppData\\Local\\Temp\\ipykernel_11660\\1463654781.py:9: SyntaxWarning: \"is not\" with a literal. Did you mean \"!=\"?\n",
      "  if t is not \"\":\n"
     ]
    }
   ],
   "source": [
    "import win32gui\n",
    "hwnd_title = dict() \n",
    "def get_all_hwnd(hwnd,mouse):\n",
    "    if win32gui.IsWindow(hwnd) and win32gui.IsWindowEnabled(hwnd) and win32gui.IsWindowVisible(hwnd):\n",
    "        hwnd_title.update({hwnd:win32gui.GetWindowText(hwnd)})\n",
    "win32gui.EnumWindows(get_all_hwnd, 0)\n",
    "\n",
    "for h,t in hwnd_title.items():\n",
    "    if t is not \"\":\n",
    "        print(([h], [t]))"
   ]
  },
  {
   "cell_type": "code",
   "execution_count": 4,
   "metadata": {},
   "outputs": [
    {
     "name": "stdout",
     "output_type": "stream",
     "text": [
      "-----------------\n",
      "1.       显示窗口\n",
      "2.       隐藏窗口\n",
      "shoucai. 收离线奖励\n",
      "tower.   咸将塔\n",
      "help.    帮助\n",
      "exit.    退出\n",
      "-----------------\n",
      "Start...tap help for more details.\n",
      "24 9\n",
      "675 1266\n",
      "450 844\n"
     ]
    }
   ],
   "source": [
    "from window_operate import *\n",
    "from gaming_func import *\n",
    "from notice_func import *\n",
    "import sys,time,os\n",
    "import threading\n",
    "\n",
    "from ctypes import *\n",
    "from ctypes.wintypes import *\n",
    "\n",
    "def get_current_size(hwnd):\n",
    "    try:\n",
    "        f = ctypes.windll.dwmapi.DwmGetWindowAttribute\n",
    "    except WindowsError:\n",
    "        f = None\n",
    "    if f:\n",
    "        rect = ctypes.wintypes.RECT()\n",
    "        DWMWA_EXTENDED_FRAME_BOUNDS = 9\n",
    "        f(ctypes.wintypes.HWND(hwnd),\n",
    "          ctypes.wintypes.DWORD(DWMWA_EXTENDED_FRAME_BOUNDS),\n",
    "          ctypes.byref(rect),\n",
    "          ctypes.sizeof(rect)\n",
    "          )\n",
    "        size = (rect.right - rect.left, rect.bottom - rect.top)        \n",
    "        return size\n",
    "\n",
    "hwnd = get_window_handle(title=\"咸鱼之王\")\n",
    "if hwnd == 0:\n",
    "    print(\"游戏未启动，退出...\")\n",
    "    time.sleep(3)\n",
    "    os._exit(1)\n",
    "print_help()\n",
    "print(\"Start...tap help for more details.\")\n",
    "w1,h1=get_current_size(hwnd)\n",
    "rect = win32gui.GetWindowRect(hwnd)\n",
    "x,y=rect[0],rect[1]\n",
    "print(x,y)\n",
    "w,h=rect[2] - x,rect[3] - y\n",
    "print(w1,h1)\n",
    "print(w,h)"
   ]
  },
  {
   "cell_type": "code",
   "execution_count": null,
   "metadata": {},
   "outputs": [],
   "source": [
    "x,y=rect[0],rect[1]\n",
    "w,h=rect[2] - x,rect[3] - y"
   ]
  },
  {
   "cell_type": "code",
   "execution_count": 1,
   "metadata": {},
   "outputs": [],
   "source": [
    "from ctypes import windll, byref, c_ubyte\n",
    "from ctypes.wintypes import RECT, HWND\n",
    "import numpy as np\n",
    "import cv2\n",
    "import win32con\n",
    "import win32gui\n",
    "\n",
    "GetDC = windll.user32.GetDC\n",
    "CreateCompatibleDC = windll.gdi32.CreateCompatibleDC\n",
    "GetClientRect = windll.user32.GetClientRect\n",
    "CreateCompatibleBitmap = windll.gdi32.CreateCompatibleBitmap\n",
    "SelectObject = windll.gdi32.SelectObject\n",
    "BitBlt = windll.gdi32.BitBlt\n",
    "GetBitmapBits = windll.gdi32.GetBitmapBits\n",
    "DeleteObject = windll.gdi32.DeleteObject\n",
    "ReleaseDC = windll.user32.ReleaseDC\n",
    "\n",
    "# 排除缩放干扰\n",
    "# windll.user32.SetProcessDPIAware()\n",
    "\n",
    "def capture(handle: HWND):\n",
    "    \"\"\"窗口客户区截图\n",
    "\n",
    "    Args:\n",
    "        handle (HWND): 要截图的窗口句柄\n",
    "\n",
    "    Returns:\n",
    "        numpy.ndarray: 截图数据\n",
    "    \"\"\"\n",
    "    # 获取窗口客户区的大小\n",
    "    r = RECT()\n",
    "    GetClientRect(handle, byref(r))\n",
    "    width, height = r.right, r.bottom\n",
    "    # 开始截图\n",
    "    dc = GetDC(handle)\n",
    "    cdc = CreateCompatibleDC(dc)\n",
    "    bitmap = CreateCompatibleBitmap(dc, width, height)\n",
    "    SelectObject(cdc, bitmap)\n",
    "    BitBlt(cdc, 0, 0, width, height, dc, 0, 0, win32con.SRCCOPY)\n",
    "    # 截图是BGRA排列，因此总元素个数需要乘以4\n",
    "    total_bytes = width*height*4\n",
    "    buffer = bytearray(total_bytes)\n",
    "    byte_array = c_ubyte*total_bytes\n",
    "    GetBitmapBits(bitmap, total_bytes, byte_array.from_buffer(buffer))\n",
    "    DeleteObject(bitmap)\n",
    "    DeleteObject(cdc)\n",
    "    ReleaseDC(handle, dc)\n",
    "    image =np.frombuffer(buffer, dtype=np.uint8).reshape(height, width, 4)\n",
    "    cv2.imshow(\"Capture Test\", image)\n",
    "    cv2.waitKey()\n",
    "\n",
    "\n"
   ]
  }
 ],
 "metadata": {
  "kernelspec": {
   "display_name": "stable_diffusion",
   "language": "python",
   "name": "python3"
  },
  "language_info": {
   "codemirror_mode": {
    "name": "ipython",
    "version": 3
   },
   "file_extension": ".py",
   "mimetype": "text/x-python",
   "name": "python",
   "nbconvert_exporter": "python",
   "pygments_lexer": "ipython3",
   "version": "3.7.16"
  },
  "orig_nbformat": 4
 },
 "nbformat": 4,
 "nbformat_minor": 2
}
